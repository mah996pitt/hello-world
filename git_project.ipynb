{
 "cells": [
  {
   "cell_type": "code",
   "execution_count": 3,
   "id": "c3742f29-2d0d-4473-97d0-9f18d6fa599d",
   "metadata": {},
   "outputs": [
    {
     "name": "stdin",
     "output_type": "stream",
     "text": [
      "Give a name  Steve\n",
      "Give an age  21\n"
     ]
    },
    {
     "name": "stdout",
     "output_type": "stream",
     "text": [
      "Steve is 21 years old\n"
     ]
    }
   ],
   "source": [
    "name = input(\"Give a name \")\n",
    "age = int(input(\"Give an age \"))\n",
    "print(name, \"is\", age, \"years old\")"
   ]
  }
 ],
 "metadata": {
  "kernelspec": {
   "display_name": "Python 3 (ipykernel)",
   "language": "python",
   "name": "python3"
  },
  "language_info": {
   "codemirror_mode": {
    "name": "ipython",
    "version": 3
   },
   "file_extension": ".py",
   "mimetype": "text/x-python",
   "name": "python",
   "nbconvert_exporter": "python",
   "pygments_lexer": "ipython3",
   "version": "3.11.13"
  }
 },
 "nbformat": 4,
 "nbformat_minor": 5
}
